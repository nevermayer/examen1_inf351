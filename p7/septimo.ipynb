{
 "cells": [
  {
   "cell_type": "code",
   "execution_count": 1,
   "metadata": {},
   "outputs": [
    {
     "name": "stdout",
     "output_type": "stream",
     "text": [
      "{'Juan': ['Pedro', 'Maria'], 'Pedro': [], 'Maria': ['Luis', 'Ana'], 'Luis': ['Marta'], 'Ana': ['Jose'], 'Marta': [], 'Jose': []}\n"
     ]
    }
   ],
   "source": [
    "import numpy as np\n",
    "import pandas as pd\n",
    "\n",
    "def construir_arbol_familiar(familia):\n",
    "  \"\"\"\n",
    "  Construye un árbol familiar a partir de una lista de relaciones familiares.\n",
    "\n",
    "  Args:\n",
    "    familia: Una lista de relaciones familiares.\n",
    "\n",
    "  Returns:\n",
    "    Un árbol familiar representado como un diccionario.\n",
    "  \"\"\"\n",
    "\n",
    "  # Crear un diccionario vacío.\n",
    "  arbol_familiar = {}\n",
    "\n",
    "  # Iterar sobre las relaciones familiares.\n",
    "  for relacion in familia:\n",
    "    # Obtener los miembros de la relación.\n",
    "    padre, hijo = relacion\n",
    "\n",
    "    # Agregar el padre al árbol familiar.\n",
    "    if padre not in arbol_familiar:\n",
    "      arbol_familiar[padre] = []\n",
    "\n",
    "    arbol_familiar[padre].append(hijo)\n",
    "\n",
    "    # Agregar el hijo al árbol familiar.\n",
    "    if hijo not in arbol_familiar:\n",
    "      arbol_familiar[hijo] = []\n",
    "\n",
    "  return arbol_familiar\n",
    "\n",
    "\n",
    "# Familia de ejemplo.\n",
    "familia = [\n",
    "    (\"Juan\", \"Pedro\"),\n",
    "    (\"Juan\", \"Maria\"),\n",
    "    (\"Maria\", \"Luis\"),\n",
    "    (\"Maria\", \"Ana\"),\n",
    "    (\"Luis\", \"Marta\"),\n",
    "    (\"Ana\", \"Jose\"),\n",
    "]\n",
    "\n",
    "# Construir el árbol familiar.\n",
    "arbol_familiar = construir_arbol_familiar(familia)\n",
    "\n",
    "# Imprimir el árbol familiar.\n",
    "print(arbol_familiar)\n"
   ]
  }
 ],
 "metadata": {
  "kernelspec": {
   "display_name": "Python 3",
   "language": "python",
   "name": "python3"
  },
  "language_info": {
   "codemirror_mode": {
    "name": "ipython",
    "version": 3
   },
   "file_extension": ".py",
   "mimetype": "text/x-python",
   "name": "python",
   "nbconvert_exporter": "python",
   "pygments_lexer": "ipython3",
   "version": "3.11.4"
  }
 },
 "nbformat": 4,
 "nbformat_minor": 2
}

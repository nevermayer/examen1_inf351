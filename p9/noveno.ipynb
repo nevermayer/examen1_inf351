{
 "cells": [
  {
   "cell_type": "code",
   "execution_count": 2,
   "metadata": {},
   "outputs": [
    {
     "name": "stdout",
     "output_type": "stream",
     "text": [
      "[106, 8, 1, 23, 34, 24, 144, 20, 64, 15, 124, 45, 128, 3, 56, 78, 113, 147, 109, 40, 42, 95, 33, 119, 31, 18, 135, 79, 125, 90, 10, 130, 122, 67, 134, 120, 145, 84, 27, 77, 63, 73, 88, 22, 89, 28, 80, 131, 5, 2, 66, 29, 61, 98, 85, 16, 6, 69, 55, 112, 14, 87, 47, 41, 96, 32, 101, 75, 26, 13, 58, 46, 114, 74, 140, 35, 60, 70, 139, 103, 100, 72, 93, 116, 142, 44, 83, 86, 97, 91, 17, 12, 30, 143, 107, 53, 111, 9, 0, 148, 117, 102, 133, 25, 37, 4, 38, 118, 59, 48, 50, 104, 132, 76, 54, 36, 137, 129, 121, 92]\n",
      "[68, 65, 43, 108, 136, 39, 115, 127, 81, 49, 11, 19, 99, 52, 21, 110, 94, 82, 149, 57, 126, 123, 7, 105, 71, 51, 146, 62, 141, 138]\n"
     ]
    }
   ],
   "source": [
    "import random\n",
    "import numpy as np\n",
    "import pandas as pd\n",
    "def obtener_indices_ciclo(n_datos, n_train, n_test):\n",
    "  \"\"\"\n",
    "  Obtiene los índices de un ciclo de split train/test.\n",
    "\n",
    "  Args:\n",
    "    n_datos: El número total de datos.\n",
    "    n_train: El número de datos para el conjunto de entrenamiento.\n",
    "    n_test: El número de datos para el conjunto de prueba.\n",
    "\n",
    "  Returns:\n",
    "    Los índices del conjunto de entrenamiento y el conjunto de prueba.\n",
    "  \"\"\"\n",
    "\n",
    "  # Generar una lista de índices del 0 al n_datos.\n",
    "  indices = list(range(n_datos))\n",
    "\n",
    "  # Mezclar los índices.\n",
    "  random.shuffle(indices)\n",
    "\n",
    "  # Obtener los índices del conjunto de entrenamiento.\n",
    "  indices_train = indices[:n_train]\n",
    "\n",
    "  # Obtener los índices del conjunto de prueba.\n",
    "  indices_test = indices[n_train:]\n",
    "\n",
    "  return indices_train, indices_test\n",
    "\n",
    "\n",
    "def obtener_indices_ciclos(n_datos, n_train, n_test, n_ciclos):\n",
    "  \"\"\"\n",
    "  Obtiene los índices de n_ciclos de split train/test.\n",
    "\n",
    "  Args:\n",
    "    n_datos: El número total de datos.\n",
    "    n_train: El número de datos para el conjunto de entrenamiento.\n",
    "    n_test: El número de datos para el conjunto de prueba.\n",
    "    n_ciclos: El número de ciclos de split.\n",
    "\n",
    "  Returns:\n",
    "    Una lista de tuplas, donde cada tupla contiene los índices del conjunto de entrenamiento y el conjunto de prueba para un ciclo.\n",
    "  \"\"\"\n",
    "\n",
    "  indices_ciclos = []\n",
    "\n",
    "  for _ in range(n_ciclos):\n",
    "    indices_train, indices_test = obtener_indices_ciclo(n_datos, n_train, n_test)\n",
    "    indices_ciclos.append((indices_train, indices_test))\n",
    "\n",
    "  return indices_ciclos\n",
    "\n",
    "\n",
    "# Cargar el dataset iris.\n",
    "data = pd.read_csv(\"IRIS.csv\")\n",
    "\n",
    "# Obtener los índices de n_ciclos de split train/test.\n",
    "indices_ciclos = obtener_indices_ciclos(data.shape[0], int(0.8 * data.shape[0]), int(0.2 * data.shape[0]), 5)\n",
    "\n",
    "# Imprimir los índices de un ciclo.\n",
    "indices_train, indices_test = indices_ciclos[0]\n",
    "print(indices_train)\n",
    "print(indices_test)\n"
   ]
  }
 ],
 "metadata": {
  "kernelspec": {
   "display_name": "Python 3",
   "language": "python",
   "name": "python3"
  },
  "language_info": {
   "codemirror_mode": {
    "name": "ipython",
    "version": 3
   },
   "file_extension": ".py",
   "mimetype": "text/x-python",
   "name": "python",
   "nbconvert_exporter": "python",
   "pygments_lexer": "ipython3",
   "version": "3.11.4"
  }
 },
 "nbformat": 4,
 "nbformat_minor": 2
}
